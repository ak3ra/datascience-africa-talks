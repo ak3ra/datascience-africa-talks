{
  "nbformat": 4,
  "nbformat_minor": 0,
  "metadata": {
    "colab": {
      "name": "intro_to_pytorch.ipynb",
      "provenance": [],
      "collapsed_sections": [],
      "toc_visible": true,
      "authorship_tag": "ABX9TyPSgg54D812Z1zN8Kk8JdpE",
      "include_colab_link": true
    },
    "kernelspec": {
      "name": "python3",
      "display_name": "Python 3"
    },
    "language_info": {
      "name": "python"
    },
    "accelerator": "GPU"
  },
  "cells": [
    {
      "cell_type": "markdown",
      "metadata": {
        "id": "view-in-github",
        "colab_type": "text"
      },
      "source": [
        "<a href=\"https://colab.research.google.com/github/ak3ra/datascience-africa-talks/blob/master/intro_to_pytorch.ipynb\" target=\"_parent\"><img src=\"https://colab.research.google.com/assets/colab-badge.svg\" alt=\"Open In Colab\"/></a>"
      ]
    },
    {
      "cell_type": "markdown",
      "metadata": {
        "id": "5RKSH_FCSGji"
      },
      "source": [
        "##**A brief Introduction to Pytorch**"
      ]
    },
    {
      "cell_type": "markdown",
      "metadata": {
        "id": "w0-G-4Uy-6ad"
      },
      "source": [
        "\n",
        "\n",
        "---\n",
        "\n"
      ]
    },
    {
      "cell_type": "markdown",
      "metadata": {
        "id": "tn53_N-r8nXi"
      },
      "source": [
        " *Data Science Africa ,  Wednesday, October 6, 2021\n",
        "Kimberley, South Africa*\n",
        "<br>\n",
        "\n",
        "**Benjamin Akera**\n",
        "<br>\n",
        "**McGill University**\n",
        "<br>\n",
        "**Mila Quebec AI Institute**\n",
        "<br>\n",
        "**Sunbird.ai**\n",
        "\n",
        "\n",
        "---\n",
        "\n",
        "\n"
      ]
    },
    {
      "cell_type": "markdown",
      "metadata": {
        "id": "_Zl50JVZ-3Yr"
      },
      "source": [
        "\n",
        "\n",
        "---\n",
        "\n"
      ]
    },
    {
      "cell_type": "markdown",
      "metadata": {
        "id": "g1WSy5Vo87Kd"
      },
      "source": [
        "# **1 . What is Pytorch** ?\n",
        "\n",
        "<p>PyTorch is an optimized tensor library primarily used for Deep Learning applications using GPUs and CPUs. It is an open-source machine learning library for Python, mainly developed by the Facebook AI Research team. </p>"
      ]
    },
    {
      "cell_type": "code",
      "metadata": {
        "colab": {
          "base_uri": "https://localhost:8080/"
        },
        "id": "dMABGvu7W3ET",
        "outputId": "74aa95a3-1e9b-4cfa-d4b0-b042fc07d887"
      },
      "source": [
        "!pip install torch"
      ],
      "execution_count": null,
      "outputs": [
        {
          "output_type": "stream",
          "name": "stdout",
          "text": [
            "Requirement already satisfied: torch in /usr/local/lib/python3.7/dist-packages (1.9.0+cu102)\n",
            "Requirement already satisfied: typing-extensions in /usr/local/lib/python3.7/dist-packages (from torch) (3.7.4.3)\n"
          ]
        }
      ]
    },
    {
      "cell_type": "code",
      "metadata": {
        "id": "E8rZKTFQZbDH"
      },
      "source": [
        "import torch\n",
        "import numpy as np\n",
        "import matplotlib.pyplot as plt\n"
      ],
      "execution_count": null,
      "outputs": []
    },
    {
      "cell_type": "code",
      "metadata": {
        "colab": {
          "base_uri": "https://localhost:8080/"
        },
        "id": "ubyg89L2Zwz2",
        "outputId": "8ece1e8d-08c8-4fd1-b4e2-deb4c2ddc85e"
      },
      "source": [
        "z = torch.zeros(5, 3)\n",
        "print(z)\n",
        "print(z.dtype)"
      ],
      "execution_count": null,
      "outputs": [
        {
          "output_type": "stream",
          "name": "stdout",
          "text": [
            "tensor([[0., 0., 0.],\n",
            "        [0., 0., 0.],\n",
            "        [0., 0., 0.],\n",
            "        [0., 0., 0.],\n",
            "        [0., 0., 0.]])\n",
            "torch.float32\n"
          ]
        }
      ]
    },
    {
      "cell_type": "code",
      "metadata": {
        "colab": {
          "base_uri": "https://localhost:8080/"
        },
        "id": "3zEYQSEwZxXW",
        "outputId": "d2d01e20-5dca-4f94-f5f1-fd72fc5c4ed0"
      },
      "source": [
        "i = torch.ones((5, 3), dtype=torch.int16)\n",
        "print(i)"
      ],
      "execution_count": null,
      "outputs": [
        {
          "output_type": "stream",
          "name": "stdout",
          "text": [
            "tensor([[1, 1, 1],\n",
            "        [1, 1, 1],\n",
            "        [1, 1, 1],\n",
            "        [1, 1, 1],\n",
            "        [1, 1, 1]], dtype=torch.int16)\n"
          ]
        }
      ]
    },
    {
      "cell_type": "code",
      "metadata": {
        "colab": {
          "base_uri": "https://localhost:8080/"
        },
        "id": "vyYoGTsRZ0S2",
        "outputId": "78f052f4-c4d3-4d92-abba-b60332b2916d"
      },
      "source": [
        "torch.manual_seed(1729)\n",
        "r1 = torch.rand(2, 2)\n",
        "print('A random tensor:')\n",
        "print(r1)\n",
        "\n",
        "r2 = torch.rand(2, 2)\n",
        "print('\\nA different random tensor:')\n",
        "print(r2) # new values\n",
        "\n",
        "torch.manual_seed(1729)\n",
        "r3 = torch.rand(2, 2)\n",
        "print('\\nShould match r1:')\n",
        "print(r3) # repeats values of r1 because of re-seed"
      ],
      "execution_count": null,
      "outputs": [
        {
          "output_type": "stream",
          "name": "stdout",
          "text": [
            "A random tensor:\n",
            "tensor([[0.3126, 0.3791],\n",
            "        [0.3087, 0.0736]])\n",
            "\n",
            "A different random tensor:\n",
            "tensor([[0.4216, 0.0691],\n",
            "        [0.2332, 0.4047]])\n",
            "\n",
            "Should match r1:\n",
            "tensor([[0.3126, 0.3791],\n",
            "        [0.3087, 0.0736]])\n"
          ]
        }
      ]
    },
    {
      "cell_type": "markdown",
      "metadata": {
        "id": "WN1O7OVpaPV9"
      },
      "source": [
        "PyTorch tensors perform arithmetic operations intuitively. Tensors of similar shapes may be added, multiplied, etc. Operations with scalars are distributed over the tensor:"
      ]
    },
    {
      "cell_type": "markdown",
      "metadata": {
        "id": "YAFYg6VpaYcp"
      },
      "source": [
        "Here's a small sample of the mathematical operations available:"
      ]
    },
    {
      "cell_type": "code",
      "metadata": {
        "colab": {
          "base_uri": "https://localhost:8080/"
        },
        "id": "OQEEVS1vaZqm",
        "outputId": "9f44193e-24cd-480d-a1f3-fb4fad2c408f"
      },
      "source": [
        "r = torch.rand(2, 2) - 0.5 * 2 # values between -1 and 1\n",
        "print('A random matrix, r:')\n",
        "print(r)\n",
        "\n",
        "# Common mathematical operations are supported:\n",
        "print('\\nAbsolute value of r:')\n",
        "print(torch.abs(r))\n",
        "\n",
        "# ...as are trigonometric functions:\n",
        "print('\\nInverse sine of r:')\n",
        "print(torch.asin(r))\n",
        "\n",
        "# ...and linear algebra operations like determinant and singular value decomposition\n",
        "print('\\nDeterminant of r:')\n",
        "print(torch.det(r))\n",
        "print('\\nSingular value decomposition of r:')\n",
        "print(torch.svd(r))\n",
        "\n",
        "# ...and statistical and aggregate operations:\n",
        "print('\\nAverage and standard deviation of r:')\n",
        "print(torch.std_mean(r))\n",
        "print('\\nMaximum value of r:')\n",
        "print(torch.max(r))"
      ],
      "execution_count": null,
      "outputs": [
        {
          "output_type": "stream",
          "name": "stdout",
          "text": [
            "A random matrix, r:\n",
            "tensor([[-0.5784, -0.9309],\n",
            "        [-0.7668, -0.5953]])\n",
            "\n",
            "Absolute value of r:\n",
            "tensor([[0.5784, 0.9309],\n",
            "        [0.7668, 0.5953]])\n",
            "\n",
            "Inverse sine of r:\n",
            "tensor([[-0.6168, -1.1970],\n",
            "        [-0.8738, -0.6377]])\n",
            "\n",
            "Determinant of r:\n",
            "tensor(-0.3695)\n",
            "\n",
            "Singular value decomposition of r:\n",
            "torch.return_types.svd(\n",
            "U=tensor([[-0.7512, -0.6601],\n",
            "        [-0.6601,  0.7512]]),\n",
            "S=tensor([1.4415, 0.2563]),\n",
            "V=tensor([[ 0.6525, -0.7578],\n",
            "        [ 0.7578,  0.6525]]))\n",
            "\n",
            "Average and standard deviation of r:\n",
            "(tensor(0.1656), tensor(-0.7179))\n",
            "\n",
            "Maximum value of r:\n",
            "tensor(-0.5784)\n"
          ]
        }
      ]
    },
    {
      "cell_type": "markdown",
      "metadata": {
        "id": "jgroizkZUcV0"
      },
      "source": [
        "<br>\n",
        "<br>\n",
        "\n",
        "---\n",
        "\n"
      ]
    },
    {
      "cell_type": "markdown",
      "metadata": {
        "id": "tnkvw7cVP1Wz"
      },
      "source": [
        "# **2. Tensors and Gradients**\n",
        "The most basic building block of any Deep Learning library is the tensor. Tensors are matrix-like data structures very similar in function and properties to Numpy arrays. In fact, for most purposes you can think of them exactly like Numpy arrays. <br><br>\n",
        "The key differences between the two is that the implementation of tensors in modern Deep Learning libraries can run on CPU or GPU (very fast) and tensors are immutable"
      ]
    },
    {
      "cell_type": "markdown",
      "metadata": {
        "id": "nxwMGmWGQkqb"
      },
      "source": [
        "<br>\n",
        "<br>"
      ]
    },
    {
      "cell_type": "code",
      "metadata": {
        "id": "K-y7oX7MP2K7"
      },
      "source": [
        "import torch \n",
        "x = torch.Tensor(3,3)\n",
        "\n",
        "# this creates a tensor of size 3,3 ie: 3 rows and 3 columns"
      ],
      "execution_count": null,
      "outputs": []
    },
    {
      "cell_type": "code",
      "metadata": {
        "colab": {
          "base_uri": "https://localhost:8080/"
        },
        "id": "Q7Y_huDSQAAr",
        "outputId": "0e581bc0-f5b3-41be-cfe3-67870cfff785"
      },
      "source": [
        "x"
      ],
      "execution_count": null,
      "outputs": [
        {
          "output_type": "execute_result",
          "data": {
            "text/plain": [
              "tensor([[-1.1410e-07,  3.0956e-41,  3.7835e-44],\n",
              "        [ 0.0000e+00,         nan,  0.0000e+00],\n",
              "        [ 1.3733e-14,  6.4069e+02,  4.3066e+21]])"
            ]
          },
          "metadata": {},
          "execution_count": 8
        }
      ]
    },
    {
      "cell_type": "code",
      "metadata": {
        "colab": {
          "base_uri": "https://localhost:8080/"
        },
        "id": "Gn2meHShQL0b",
        "outputId": "45a7828a-7aa5-46bf-9e8a-ca799afe0d35"
      },
      "source": [
        "# Create Tensors with Gradients\n",
        "\n",
        "import torch\n",
        "a = torch.ones((2,2), requires_grad=True)\n",
        "a"
      ],
      "execution_count": null,
      "outputs": [
        {
          "output_type": "execute_result",
          "data": {
            "text/plain": [
              "tensor([[1., 1.],\n",
              "        [1., 1.]], requires_grad=True)"
            ]
          },
          "metadata": {},
          "execution_count": 9
        }
      ]
    },
    {
      "cell_type": "code",
      "metadata": {
        "colab": {
          "base_uri": "https://localhost:8080/"
        },
        "id": "0UuDR9hAf7HW",
        "outputId": "33362828-c6b1-469b-dc82-a19fcac2cc5c"
      },
      "source": [
        "#check if tensor requires grad\n",
        "a.requires_grad"
      ],
      "execution_count": null,
      "outputs": [
        {
          "output_type": "execute_result",
          "data": {
            "text/plain": [
              "True"
            ]
          },
          "metadata": {},
          "execution_count": 10
        }
      ]
    },
    {
      "cell_type": "code",
      "metadata": {
        "colab": {
          "base_uri": "https://localhost:8080/"
        },
        "id": "taEp57otgALw",
        "outputId": "8ad704a6-94a2-4156-d5d3-2ebbae4f4167"
      },
      "source": [
        "#  Method2: Create Tensors with Gradients \n",
        "# Normal way of creating gradients\n",
        "a = torch.ones((2, 2))\n",
        "\n",
        "# Requires gradient\n",
        "a.requires_grad_()\n",
        "\n",
        "# Check if requires gradient\n",
        "a.requires_grad"
      ],
      "execution_count": null,
      "outputs": [
        {
          "output_type": "execute_result",
          "data": {
            "text/plain": [
              "True"
            ]
          },
          "metadata": {},
          "execution_count": 11
        }
      ]
    },
    {
      "cell_type": "code",
      "metadata": {
        "colab": {
          "base_uri": "https://localhost:8080/"
        },
        "id": "DJHOO9LQgQ_A",
        "outputId": "9f5210f5-4ffa-42d1-f775-1eab24db9e5d"
      },
      "source": [
        "## Tensors with Gradients addition operation behaves similarly to tensors\n",
        "b = torch.ones((2, 2), requires_grad=True)\n",
        "print(a + b)\n",
        "print(torch.add(a, b))"
      ],
      "execution_count": null,
      "outputs": [
        {
          "output_type": "stream",
          "name": "stdout",
          "text": [
            "tensor([[2., 2.],\n",
            "        [2., 2.]], grad_fn=<AddBackward0>)\n",
            "tensor([[2., 2.],\n",
            "        [2., 2.]], grad_fn=<AddBackward0>)\n"
          ]
        }
      ]
    },
    {
      "cell_type": "code",
      "metadata": {
        "colab": {
          "base_uri": "https://localhost:8080/"
        },
        "id": "YHPpwUKbgagQ",
        "outputId": "c676becc-6cee-47b6-d420-3f70d88547ba"
      },
      "source": [
        "# As usual, the operations we learnt previously for tensors apply for tensors with gradients. \n",
        "#Feel free to try divisions, mean or standard deviation!\n",
        "\n",
        "\n",
        "print(a * b)\n",
        "print(torch.mul(a, b))"
      ],
      "execution_count": null,
      "outputs": [
        {
          "output_type": "stream",
          "name": "stdout",
          "text": [
            "tensor([[1., 1.],\n",
            "        [1., 1.]], grad_fn=<MulBackward0>)\n",
            "tensor([[1., 1.],\n",
            "        [1., 1.]], grad_fn=<MulBackward0>)\n"
          ]
        }
      ]
    },
    {
      "cell_type": "markdown",
      "metadata": {
        "id": "zvRKblHegfqA"
      },
      "source": [
        "What exactly is` requires_grad`? ->\n",
        "Allows for the calculation of gradients wrt the tensors that all allows \n",
        "gradient accumulation\n",
        "\n",
        "<br> \n",
        "consider the equation : <br> <center> $y_i = 5(x_i + 1)^2$ </center>\n"
      ]
    },
    {
      "cell_type": "markdown",
      "metadata": {
        "id": "nHL9pKKIQAPj"
      },
      "source": [
        "<br>\n",
        "<br>\n"
      ]
    },
    {
      "cell_type": "code",
      "metadata": {
        "colab": {
          "base_uri": "https://localhost:8080/"
        },
        "id": "33PU9EmcgpKA",
        "outputId": "4098ecf5-11bd-4c4e-f197-77060be3c3ae"
      },
      "source": [
        "# Create tensor of size 2x1 filled with 1's that requires gradient\n",
        "\n",
        "\n",
        "x = torch.ones(2, requires_grad=True)\n",
        "x"
      ],
      "execution_count": null,
      "outputs": [
        {
          "output_type": "execute_result",
          "data": {
            "text/plain": [
              "tensor([1., 1.], requires_grad=True)"
            ]
          },
          "metadata": {},
          "execution_count": 14
        }
      ]
    },
    {
      "cell_type": "code",
      "metadata": {
        "colab": {
          "base_uri": "https://localhost:8080/"
        },
        "id": "Wphjt6yMhzDJ",
        "outputId": "02746a16-0ea2-4292-aa56-2a21807bb498"
      },
      "source": [
        "# we plug x into the equation above\n",
        "\n",
        "y = 5 * (x + 1) ** 2\n",
        "y"
      ],
      "execution_count": null,
      "outputs": [
        {
          "output_type": "execute_result",
          "data": {
            "text/plain": [
              "tensor([20., 20.], grad_fn=<MulBackward0>)"
            ]
          },
          "metadata": {},
          "execution_count": 15
        }
      ]
    },
    {
      "cell_type": "markdown",
      "metadata": {
        "id": "xx-GZhxmP3Hj"
      },
      "source": [
        "\n",
        "\n",
        "<br> \n",
        "<br>\n"
      ]
    },
    {
      "cell_type": "markdown",
      "metadata": {
        "id": "S_v0Wk-Ij3Nb"
      },
      "source": [
        "`backward()` should be called only on a scalar (i.e. 1-element tensor) or with gradient w.r.t. the variable\n",
        "\n",
        "Let's reduce $y$ to a scalar then...\n",
        "\n",
        "<center>\n",
        "$o = \\frac{1}{2}\\sum_i{y_i}$\n",
        "</center>\n",
        "\n",
        "As you can see above, we've created a tensor filled with 20's, so average them would return 20\n"
      ]
    },
    {
      "cell_type": "markdown",
      "metadata": {
        "id": "sRruWdVtQFTY"
      },
      "source": [
        "<br>\n",
        "<br>"
      ]
    },
    {
      "cell_type": "code",
      "metadata": {
        "colab": {
          "base_uri": "https://localhost:8080/"
        },
        "id": "pC1yFqrfkJ0Z",
        "outputId": "5e2db28e-17af-4ce8-f418-47bf6dd2e180"
      },
      "source": [
        "o = (1/2) * torch.sum(y)\n",
        "o"
      ],
      "execution_count": null,
      "outputs": [
        {
          "output_type": "execute_result",
          "data": {
            "text/plain": [
              "tensor(20., grad_fn=<MulBackward0>)"
            ]
          },
          "metadata": {},
          "execution_count": 16
        }
      ]
    },
    {
      "cell_type": "markdown",
      "metadata": {
        "id": "nuHLp53okoGk"
      },
      "source": [
        "Calculating a derivative: Recall, \n",
        "\n",
        "<br>\n",
        "<br>\n",
        "\n",
        "<center>\n",
        "$y_i = 5(x_i + 1) $ \n",
        "<br>\n",
        "$o = \\frac{1}{2}\\sum_i{y_i}$\n",
        "<br>\n",
        "<br>\n",
        "Substitute $y$ into $o$; eqn $o$: = $\\frac{1}{2}\\sum_i{5(x_i + 1)}^2$\n",
        "<br>\n",
        "<br>\n",
        "<br>\n",
        "$ \\frac{\\partial o}{\\partial x_i} = \\frac{1}{2}[10(x_i + 1)]$\n",
        "<br>\n",
        "<br>\n",
        "$ \\frac{\\partial o}{\\partial x_i}|x_{i=1} = \\frac{1}{2}[10(1 + 1)] = \\frac{10}{2}(2) = 10$\n",
        "\n",
        "</center>\n",
        "\n",
        "<br>\n",
        "<br>\n",
        "\n",
        "\n",
        "\n",
        "We should expect to get 10, and it's so simple to do this with PyTorch with the following line...\n",
        "\n",
        "Get first derivative\n",
        "\n",
        "<br>\n",
        "<br>\n",
        "\n",
        "``o.backward()``"
      ]
    },
    {
      "cell_type": "code",
      "metadata": {
        "id": "YrVvPrsileW5"
      },
      "source": [
        "o.backward()"
      ],
      "execution_count": null,
      "outputs": []
    },
    {
      "cell_type": "code",
      "metadata": {
        "colab": {
          "base_uri": "https://localhost:8080/"
        },
        "id": "uq_1iM6ynkGT",
        "outputId": "a2ebc2d6-4aa3-4574-b682-7e826d65d446"
      },
      "source": [
        "x.grad"
      ],
      "execution_count": null,
      "outputs": [
        {
          "output_type": "execute_result",
          "data": {
            "text/plain": [
              "tensor([10., 10.])"
            ]
          },
          "metadata": {},
          "execution_count": 18
        }
      ]
    },
    {
      "cell_type": "code",
      "metadata": {
        "colab": {
          "base_uri": "https://localhost:8080/"
        },
        "id": "o5tehtfOnnBC",
        "outputId": "b0209135-687a-4771-9283-1f6824920fb8"
      },
      "source": [
        "#If x requires gradient and you create new objects with it, you get all gradients\n",
        "print(x.requires_grad)\n",
        "print(y.requires_grad)\n",
        "print(o.requires_grad)\n"
      ],
      "execution_count": null,
      "outputs": [
        {
          "output_type": "stream",
          "name": "stdout",
          "text": [
            "True\n",
            "True\n",
            "True\n"
          ]
        }
      ]
    },
    {
      "cell_type": "markdown",
      "metadata": {
        "id": "n6hNbjwEUj0P"
      },
      "source": [
        "<br>\n",
        "<br>\n",
        "\n",
        "\n",
        "---\n",
        "\n",
        "\n",
        "\n"
      ]
    },
    {
      "cell_type": "markdown",
      "metadata": {
        "id": "-WjvUSSon7rv"
      },
      "source": [
        "#**3. Linear Regression in Pytorch**"
      ]
    },
    {
      "cell_type": "markdown",
      "metadata": {
        "id": "jdsDmhfjyWCC"
      },
      "source": [
        "Allows us to understand the relationship between two continous variables\n",
        "\n",
        "Example:\n",
        "\n",
        "\n",
        "*   $x$: Independent variable\n",
        "  *   Weight\n",
        "* $y$: Dependent Variable\n",
        "  * height \n",
        "\n",
        "$y = \\alpha x + \\beta$\n"
      ]
    },
    {
      "cell_type": "code",
      "metadata": {
        "id": "OhG9Vi7FN6Jj"
      },
      "source": [
        " import torch\n",
        " import torch.nn as nn\n",
        " import torch.functional as F"
      ],
      "execution_count": null,
      "outputs": []
    },
    {
      "cell_type": "code",
      "metadata": {
        "id": "8OWG62HXy6zO"
      },
      "source": [
        "## Building a toy dataset\n",
        "\n",
        "x_values = [i for i in range(11)]\n"
      ],
      "execution_count": null,
      "outputs": []
    },
    {
      "cell_type": "code",
      "metadata": {
        "colab": {
          "base_uri": "https://localhost:8080/"
        },
        "id": "a4wFIBmGz1KP",
        "outputId": "823fcfaf-3fa6-4de2-f4bb-2dc1d8a5bf87"
      },
      "source": [
        "x_values"
      ],
      "execution_count": null,
      "outputs": [
        {
          "output_type": "execute_result",
          "data": {
            "text/plain": [
              "[0, 1, 2, 3, 4, 5, 6, 7, 8, 9, 10]"
            ]
          },
          "metadata": {},
          "execution_count": 22
        }
      ]
    },
    {
      "cell_type": "code",
      "metadata": {
        "id": "RBrRqz46z11f"
      },
      "source": [
        "# convert the list to numpy arrays\n",
        "x_train = np.array(x_values, dtype=np.float32)"
      ],
      "execution_count": null,
      "outputs": []
    },
    {
      "cell_type": "code",
      "metadata": {
        "colab": {
          "base_uri": "https://localhost:8080/"
        },
        "id": "UwPuAy20z91u",
        "outputId": "86d06a09-88cf-4768-f247-addbb50a3ae5"
      },
      "source": [
        "x_train.shape"
      ],
      "execution_count": null,
      "outputs": [
        {
          "output_type": "execute_result",
          "data": {
            "text/plain": [
              "(11,)"
            ]
          },
          "metadata": {},
          "execution_count": 24
        }
      ]
    },
    {
      "cell_type": "code",
      "metadata": {
        "colab": {
          "base_uri": "https://localhost:8080/"
        },
        "id": "7-rliUahz_jv",
        "outputId": "abf071b3-6179-414c-b04f-864cd3230bad"
      },
      "source": [
        "## Convert it into a 2D Array\n",
        "x_train = x_train.reshape(-1, 1)\n",
        "x_train.shape"
      ],
      "execution_count": null,
      "outputs": [
        {
          "output_type": "execute_result",
          "data": {
            "text/plain": [
              "(11, 1)"
            ]
          },
          "metadata": {},
          "execution_count": 25
        }
      ]
    },
    {
      "cell_type": "markdown",
      "metadata": {
        "id": "YhtTIGjS0Zph"
      },
      "source": [
        "We want $y$ values for every $x$ value we have above:\n",
        "\n",
        "Following the equation:\n",
        "$y = 2x +1 $"
      ]
    },
    {
      "cell_type": "code",
      "metadata": {
        "id": "_cZthP0n0K0e"
      },
      "source": [
        "# Create a list of y values for every x value we have above\n",
        "\n",
        "y_values = [2*i for i in x_values]\n"
      ],
      "execution_count": null,
      "outputs": []
    },
    {
      "cell_type": "code",
      "metadata": {
        "colab": {
          "base_uri": "https://localhost:8080/"
        },
        "id": "0hzfGjHc0X0z",
        "outputId": "eced4901-6cd5-4426-9063-210696f37b71"
      },
      "source": [
        "y_values"
      ],
      "execution_count": null,
      "outputs": [
        {
          "output_type": "execute_result",
          "data": {
            "text/plain": [
              "[0, 2, 4, 6, 8, 10, 12, 14, 16, 18, 20]"
            ]
          },
          "metadata": {},
          "execution_count": 27
        }
      ]
    },
    {
      "cell_type": "code",
      "metadata": {
        "colab": {
          "base_uri": "https://localhost:8080/"
        },
        "id": "aUzF-iHn0YkP",
        "outputId": "739b5e24-0f85-4006-c9d2-50ed7f555e11"
      },
      "source": [
        "## Convert y_values to numpy arrays and reshape\n",
        "y_train = np.array(y_values, dtype=np.float32)\n",
        "\n",
        "y_train = y_train.reshape(-1, 1)\n",
        "y_train.shape"
      ],
      "execution_count": null,
      "outputs": [
        {
          "output_type": "execute_result",
          "data": {
            "text/plain": [
              "(11, 1)"
            ]
          },
          "metadata": {},
          "execution_count": 28
        }
      ]
    },
    {
      "cell_type": "markdown",
      "metadata": {
        "id": "7yVVNfkpUsQT"
      },
      "source": [
        "<br>\n",
        "<br>\n",
        "<br>\n",
        "\n",
        "---\n",
        "\n"
      ]
    },
    {
      "cell_type": "markdown",
      "metadata": {
        "id": "LPObyH1h03cX"
      },
      "source": [
        "## **3.1  Building the model**"
      ]
    },
    {
      "cell_type": "markdown",
      "metadata": {
        "id": "ol2bwD0Z0-mC"
      },
      "source": [
        "1. Linear model \n",
        "     * True Equation $y = 2x+1$\n",
        "\n",
        "2. Forward\n",
        "Example\n",
        "* input $x = 1$\n",
        "* Output $ \\hat y= ? $"
      ]
    },
    {
      "cell_type": "code",
      "metadata": {
        "id": "kTWS4WAy05Df"
      },
      "source": [
        "# Create Linear Regression class \n",
        "\n",
        "class LinearRegressionModel(nn.Module):\n",
        "  def __init__(self, input_dim, output_dim):\n",
        "    super(LinearRegressionModel, self).__init__()\n",
        "    self.linear = nn.Linear(input_dim, output_dim)\n",
        "\n",
        "  def forward(self, x):\n",
        "    out = self.linear(x)\n",
        "    return out"
      ],
      "execution_count": null,
      "outputs": []
    },
    {
      "cell_type": "code",
      "metadata": {
        "id": "vT6FEy9R2cXQ"
      },
      "source": [
        "# instantiate the model class \n",
        "input_dim = 1\n",
        "output_dim = 1\n",
        "\n",
        "model = LinearRegressionModel(input_dim, output_dim)"
      ],
      "execution_count": null,
      "outputs": []
    },
    {
      "cell_type": "code",
      "metadata": {
        "colab": {
          "base_uri": "https://localhost:8080/"
        },
        "id": "Xj0Midg92pM_",
        "outputId": "48b831d7-94d0-45dd-d005-db68a3c18fd2"
      },
      "source": [
        "model"
      ],
      "execution_count": null,
      "outputs": [
        {
          "output_type": "execute_result",
          "data": {
            "text/plain": [
              "LinearRegressionModel(\n",
              "  (linear): Linear(in_features=1, out_features=1, bias=True)\n",
              ")"
            ]
          },
          "metadata": {},
          "execution_count": 31
        }
      ]
    },
    {
      "cell_type": "markdown",
      "metadata": {
        "id": "2LOZd7IfUxj_"
      },
      "source": [
        "<br>\n",
        "<br>"
      ]
    },
    {
      "cell_type": "markdown",
      "metadata": {
        "id": "XrFJFtGA2wVQ"
      },
      "source": [
        "## **3.2 Instantiate the loss class**\n",
        "\n",
        "MSE Loss: Mean Squared Error \n",
        "\n",
        "$MSE = \\frac{1}{n}\\sum{\\hat y_i - y_i}^2$\n",
        "\n",
        "\n",
        "*   $\\hat y$: prediction\n",
        "*   $y$: true value\n",
        "\n"
      ]
    },
    {
      "cell_type": "code",
      "metadata": {
        "id": "pjfGvT6e2pye"
      },
      "source": [
        "criterion = nn.MSELoss()"
      ],
      "execution_count": null,
      "outputs": []
    },
    {
      "cell_type": "markdown",
      "metadata": {
        "id": "vMrb3CpVU0ue"
      },
      "source": [
        "<br>\n",
        "<br>"
      ]
    },
    {
      "cell_type": "markdown",
      "metadata": {
        "id": "kBuG4HAV5OO1"
      },
      "source": [
        "## **3.3 Instatiate Optimizer Class**"
      ]
    },
    {
      "cell_type": "markdown",
      "metadata": {
        "id": "VDPk5YWR5Mo5"
      },
      "source": [
        "**Simple Equation** <br>\n",
        "<br>\n",
        "$\\theta = \\theta - \\eta . \\Delta_{\\theta}  $ <br>\n",
        "\n",
        "\n",
        "<br>\n",
        "\n",
        "<li> $\\theta$ parameters (our tensors with gradient accumulation capabilities)</ul>\n",
        "<li> $\\eta$ learning rate </ul>\n",
        "<li> $\\Delta_{\\theta}$ parameters' gradients </ul>\n",
        "\n",
        "``parameters = parameters - learning_rate * parameters_gradients``"
      ]
    },
    {
      "cell_type": "code",
      "metadata": {
        "id": "Eid_F1XR5NKg"
      },
      "source": [
        "learning_rate = 0.01\n",
        "\n",
        "optimizer = torch.optim.SGD(model.parameters(), lr=learning_rate)"
      ],
      "execution_count": null,
      "outputs": []
    },
    {
      "cell_type": "markdown",
      "metadata": {
        "id": "e-tUbZu2U3UM"
      },
      "source": [
        "<br>\n",
        "<br>\n",
        "<br>"
      ]
    },
    {
      "cell_type": "markdown",
      "metadata": {
        "id": "ONGiCq_z5tsT"
      },
      "source": [
        "## **3.4 Train Model**\n",
        "\n",
        "1 epoch: Going through the whole x_train data once\n",
        "\n",
        "*   $100$ epochs\n",
        "  * $100 \\times$ mapping ``x_train = [0,1,2,3,4,5,6,7,8,9,10]``\n",
        "\n",
        "* **Processes**\n",
        "    1.   Convert inputs to tensors with gradients\n",
        "    2.   Clear gradient buffers\n",
        "    3.   Get output given inputs\n",
        "    4.   Get loss\n",
        "    5.   Get gradients wrt parameters\n",
        "    6.   Update parameters using gradients\n",
        "\n",
        "         * ``parameters = parameters - learning_rate * parameters_gradients``\n",
        "    7.   Repeat\n"
      ]
    },
    {
      "cell_type": "code",
      "metadata": {
        "id": "sOBxmHYz5vOR"
      },
      "source": [
        "epochs = 100"
      ],
      "execution_count": null,
      "outputs": []
    },
    {
      "cell_type": "code",
      "metadata": {
        "colab": {
          "base_uri": "https://localhost:8080/"
        },
        "id": "TQmtIX4T64jx",
        "outputId": "24c09854-145a-4143-e8b0-088523c468d0"
      },
      "source": [
        "for epoch in range(epochs):\n",
        "    epoch += 1\n",
        "    # Convert numpy array to torch Variable\n",
        "    inputs = torch.from_numpy(x_train).requires_grad_()\n",
        "    labels = torch.from_numpy(y_train)\n",
        "\n",
        "    # Clear gradients w.r.t. parameters\n",
        "    optimizer.zero_grad() \n",
        "\n",
        "    # Forward to get output\n",
        "    outputs = model(inputs)\n",
        "\n",
        "    # Calculate Loss\n",
        "    loss = criterion(outputs, labels)\n",
        "\n",
        "    # Getting gradients w.r.t. parameters\n",
        "    loss.backward()\n",
        "\n",
        "    # Updating parameters\n",
        "    optimizer.step()\n",
        "\n",
        "    print('epoch {}, loss {}'.format(epoch, loss.item()))"
      ],
      "execution_count": null,
      "outputs": [
        {
          "output_type": "stream",
          "name": "stdout",
          "text": [
            "epoch 1, loss 206.39730834960938\n",
            "epoch 2, loss 17.292131423950195\n",
            "epoch 3, loss 1.8623175621032715\n",
            "epoch 4, loss 0.5987103581428528\n",
            "epoch 5, loss 0.49065276980400085\n",
            "epoch 6, loss 0.47690504789352417\n",
            "epoch 7, loss 0.47090473771095276\n",
            "epoch 8, loss 0.4655914008617401\n",
            "epoch 9, loss 0.4603874385356903\n",
            "epoch 10, loss 0.4552462697029114\n",
            "epoch 11, loss 0.4501623809337616\n",
            "epoch 12, loss 0.4451355040073395\n",
            "epoch 13, loss 0.4401649236679077\n",
            "epoch 14, loss 0.4352494478225708\n",
            "epoch 15, loss 0.4303892254829407\n",
            "epoch 16, loss 0.4255831837654114\n",
            "epoch 17, loss 0.4208308160305023\n",
            "epoch 18, loss 0.41613122820854187\n",
            "epoch 19, loss 0.4114844501018524\n",
            "epoch 20, loss 0.4068891704082489\n",
            "epoch 21, loss 0.4023456871509552\n",
            "epoch 22, loss 0.3978530168533325\n",
            "epoch 23, loss 0.39340999722480774\n",
            "epoch 24, loss 0.3890169858932495\n",
            "epoch 25, loss 0.3846728503704071\n",
            "epoch 26, loss 0.38037756085395813\n",
            "epoch 27, loss 0.3761295974254608\n",
            "epoch 28, loss 0.3719295263290405\n",
            "epoch 29, loss 0.36777612566947937\n",
            "epoch 30, loss 0.36366942524909973\n",
            "epoch 31, loss 0.3596082925796509\n",
            "epoch 32, loss 0.3555925786495209\n",
            "epoch 33, loss 0.35162174701690674\n",
            "epoch 34, loss 0.3476952612400055\n",
            "epoch 35, loss 0.3438126742839813\n",
            "epoch 36, loss 0.3399733006954193\n",
            "epoch 37, loss 0.3361769914627075\n",
            "epoch 38, loss 0.33242282271385193\n",
            "epoch 39, loss 0.32871076464653015\n",
            "epoch 40, loss 0.32504022121429443\n",
            "epoch 41, loss 0.3214103877544403\n",
            "epoch 42, loss 0.3178214132785797\n",
            "epoch 43, loss 0.31427234411239624\n",
            "epoch 44, loss 0.31076276302337646\n",
            "epoch 45, loss 0.3072924017906189\n",
            "epoch 46, loss 0.30386102199554443\n",
            "epoch 47, loss 0.3004680871963501\n",
            "epoch 48, loss 0.2971127927303314\n",
            "epoch 49, loss 0.29379498958587646\n",
            "epoch 50, loss 0.2905140221118927\n",
            "epoch 51, loss 0.28726986050605774\n",
            "epoch 52, loss 0.28406214714050293\n",
            "epoch 53, loss 0.2808898091316223\n",
            "epoch 54, loss 0.27775341272354126\n",
            "epoch 55, loss 0.27465179562568665\n",
            "epoch 56, loss 0.27158471941947937\n",
            "epoch 57, loss 0.26855209469795227\n",
            "epoch 58, loss 0.26555299758911133\n",
            "epoch 59, loss 0.26258766651153564\n",
            "epoch 60, loss 0.2596552073955536\n",
            "epoch 61, loss 0.2567560374736786\n",
            "epoch 62, loss 0.25388866662979126\n",
            "epoch 63, loss 0.2510535418987274\n",
            "epoch 64, loss 0.24825023114681244\n",
            "epoch 65, loss 0.24547792971134186\n",
            "epoch 66, loss 0.24273668229579926\n",
            "epoch 67, loss 0.24002625048160553\n",
            "epoch 68, loss 0.2373456060886383\n",
            "epoch 69, loss 0.23469549417495728\n",
            "epoch 70, loss 0.23207451403141022\n",
            "epoch 71, loss 0.22948308289051056\n",
            "epoch 72, loss 0.22692038118839264\n",
            "epoch 73, loss 0.2243865579366684\n",
            "epoch 74, loss 0.22188062965869904\n",
            "epoch 75, loss 0.21940308809280396\n",
            "epoch 76, loss 0.2169530987739563\n",
            "epoch 77, loss 0.21453027427196503\n",
            "epoch 78, loss 0.21213482320308685\n",
            "epoch 79, loss 0.20976586639881134\n",
            "epoch 80, loss 0.2074233442544937\n",
            "epoch 81, loss 0.20510715246200562\n",
            "epoch 82, loss 0.20281678438186646\n",
            "epoch 83, loss 0.20055194199085236\n",
            "epoch 84, loss 0.19831238687038422\n",
            "epoch 85, loss 0.1960979551076889\n",
            "epoch 86, loss 0.19390803575515747\n",
            "epoch 87, loss 0.1917428821325302\n",
            "epoch 88, loss 0.18960151076316833\n",
            "epoch 89, loss 0.18748411536216736\n",
            "epoch 90, loss 0.18539077043533325\n",
            "epoch 91, loss 0.18332058191299438\n",
            "epoch 92, loss 0.1812734454870224\n",
            "epoch 93, loss 0.179249107837677\n",
            "epoch 94, loss 0.177247554063797\n",
            "epoch 95, loss 0.17526817321777344\n",
            "epoch 96, loss 0.17331106960773468\n",
            "epoch 97, loss 0.17137563228607178\n",
            "epoch 98, loss 0.16946183145046234\n",
            "epoch 99, loss 0.16756963729858398\n",
            "epoch 100, loss 0.1656983494758606\n"
          ]
        }
      ]
    },
    {
      "cell_type": "code",
      "metadata": {
        "colab": {
          "base_uri": "https://localhost:8080/"
        },
        "id": "Ms37cdDU66Ux",
        "outputId": "6861a2a4-07ee-474a-a100-f77765ad7938"
      },
      "source": [
        "# Purely inference\n",
        "predicted = model(torch.from_numpy(x_train).requires_grad_()).data.numpy()\n",
        "predicted"
      ],
      "execution_count": null,
      "outputs": [
        {
          "output_type": "execute_result",
          "data": {
            "text/plain": [
              "array([[ 0.7572152],\n",
              "       [ 2.6481695],\n",
              "       [ 4.5391235],\n",
              "       [ 6.430078 ],\n",
              "       [ 8.321033 ],\n",
              "       [10.211987 ],\n",
              "       [12.1029415],\n",
              "       [13.993896 ],\n",
              "       [15.88485  ],\n",
              "       [17.775805 ],\n",
              "       [19.666758 ]], dtype=float32)"
            ]
          },
          "metadata": {},
          "execution_count": 36
        }
      ]
    },
    {
      "cell_type": "code",
      "metadata": {
        "colab": {
          "base_uri": "https://localhost:8080/"
        },
        "id": "y6sV60rT7DHR",
        "outputId": "9c7b8374-d1ba-4f27-d1ca-bd5b46912b7c"
      },
      "source": [
        "# y = 2x + 1 \n",
        "y_train"
      ],
      "execution_count": null,
      "outputs": [
        {
          "output_type": "execute_result",
          "data": {
            "text/plain": [
              "array([[ 0.],\n",
              "       [ 2.],\n",
              "       [ 4.],\n",
              "       [ 6.],\n",
              "       [ 8.],\n",
              "       [10.],\n",
              "       [12.],\n",
              "       [14.],\n",
              "       [16.],\n",
              "       [18.],\n",
              "       [20.]], dtype=float32)"
            ]
          },
          "metadata": {},
          "execution_count": 37
        }
      ]
    },
    {
      "cell_type": "markdown",
      "metadata": {
        "id": "AWUghn4EU8z2"
      },
      "source": [
        "<br>\n",
        "<br>\n",
        "<br>"
      ]
    },
    {
      "cell_type": "markdown",
      "metadata": {
        "id": "8sKyAk0w7Khj"
      },
      "source": [
        "## **3.5 Plot of predicted and actual values**\n",
        "\n"
      ]
    },
    {
      "cell_type": "code",
      "metadata": {
        "colab": {
          "base_uri": "https://localhost:8080/",
          "height": 265
        },
        "id": "HJ7WlPO27FcR",
        "outputId": "186ab7ac-422a-48c0-c4dd-5aaff855fa25"
      },
      "source": [
        "# Clear figure\n",
        "plt.clf()\n",
        "\n",
        "# Get predictions\n",
        "predicted = model(torch.from_numpy(x_train).requires_grad_()).data.numpy()\n",
        "\n",
        "# Plot true data\n",
        "plt.plot(x_train, y_train, 'go', label='True data', alpha=0.5)\n",
        "\n",
        "# Plot predictions\n",
        "plt.plot(x_train, predicted, '--', label='Predictions', alpha=0.5)\n",
        "\n",
        "# Legend and plot\n",
        "plt.legend(loc='best')\n",
        "plt.show()"
      ],
      "execution_count": null,
      "outputs": [
        {
          "output_type": "display_data",
          "data": {
            "image/png": "[encoded data removed]",
            "text/plain": [
              "<Figure size 432x288 with 1 Axes>"
            ]
          },
          "metadata": {
            "needs_background": "light"
          }
        }
      ]
    },
    {
      "cell_type": "markdown",
      "metadata": {
        "id": "t4KelQ65U_Ee"
      },
      "source": [
        "<br>\n",
        "<br>\n",
        "<br>"
      ]
    },
    {
      "cell_type": "markdown",
      "metadata": {
        "id": "KY1Mxmjx7fuG"
      },
      "source": [
        "## **3.6 Save Model**"
      ]
    },
    {
      "cell_type": "code",
      "metadata": {
        "id": "U-PB6PEj7HjB"
      },
      "source": [
        "save_model = False\n",
        "if save_model is True:\n",
        "    # Saves only parameters\n",
        "    # alpha & beta\n",
        "    torch.save(model.state_dict(), 'awesome_model.pkl')"
      ],
      "execution_count": null,
      "outputs": []
    },
    {
      "cell_type": "markdown",
      "metadata": {
        "id": "J8Atqd6AVBVA"
      },
      "source": [
        "<br>\n",
        "<br>"
      ]
    },
    {
      "cell_type": "markdown",
      "metadata": {
        "id": "FlhGszg17mlx"
      },
      "source": [
        "##  **3.7 Load Model**"
      ]
    },
    {
      "cell_type": "code",
      "metadata": {
        "id": "Iy7udfOm7cuR"
      },
      "source": [
        "load_model = False\n",
        "if load_model is True:\n",
        "    model.load_state_dict(torch.load('awesome_model.pkl'))"
      ],
      "execution_count": null,
      "outputs": []
    },
    {
      "cell_type": "markdown",
      "metadata": {
        "id": "3mXFS0TURg8r"
      },
      "source": [
        "<br>\n",
        "<br>"
      ]
    },
    {
      "cell_type": "markdown",
      "metadata": {
        "id": "5ds6TLMiNJis"
      },
      "source": [
        " ***The following are left as an exercise to the reader***\n",
        "\n",
        "1. Try to play around with the parameters; learning rate, try other optimizers\n",
        "2. Re-implement the Linear Regression Model for a classification task using Logistic Regression\n",
        "3. "
      ]
    },
    {
      "cell_type": "markdown",
      "metadata": {
        "id": "y_Unxt5RR6j7"
      },
      "source": [
        "# **That's all folks** \n",
        "**More Resources**"
      ]
    },
    {
      "cell_type": "markdown",
      "metadata": {
        "id": "nzjheDD_SGiH"
      },
      "source": [
        "\n",
        "1.   [Pytorch Docs](https://pytorch.org/)\n",
        "2.   [Pytorch Book](https://pytorch.org/assets/deep-learning/Deep-Learning-with-PyTorch.pdf)\n",
        "\n"
      ]
    },
    {
      "cell_type": "code",
      "metadata": {
        "id": "izGsEP8USDNS"
      },
      "source": [
        ""
      ],
      "execution_count": null,
      "outputs": []
    }
  ]
}